{
 "cells": [
  {
   "cell_type": "code",
   "execution_count": 165,
   "id": "d29834d2",
   "metadata": {},
   "outputs": [],
   "source": [
    "# chia friends\n",
    "import requests\n",
    "import pandas as pd\n",
    "import json\n",
    "\n",
    "r = requests.get('https://ects.io/chiafriends.json')\n",
    "jsonfile = r.json()\n",
    "biglist = []\n",
    "for i in range(10001):\n",
    "    #df3_slice = df3.iloc[i]['attributes']\n",
    "    if i == 0:\n",
    "        continue\n",
    "    i_str = str(i)\n",
    "    attributes_slice = jsonfile[i_str]['attributes']\n",
    "    name_of_nft=jsonfile[i_str]['name']\n",
    "    lst = []\n",
    "    lst.append({'name':name_of_nft})\n",
    "    for j in range(len(attributes_slice)):\n",
    "        lst.append({attributes_slice[j]['trait_type']:attributes_slice[j]['value']})\n",
    "    result = {}\n",
    "    for d in lst:\n",
    "        result.update(d)\n",
    "    biglist.append(result)\n",
    "df = pd.DataFrame(biglist)\n",
    "df.to_csv('chia_friends_metadata.csv')  "
   ]
  }
 ],
 "metadata": {
  "kernelspec": {
   "display_name": "Python 3 (ipykernel)",
   "language": "python",
   "name": "python3"
  },
  "language_info": {
   "codemirror_mode": {
    "name": "ipython",
    "version": 3
   },
   "file_extension": ".py",
   "mimetype": "text/x-python",
   "name": "python",
   "nbconvert_exporter": "python",
   "pygments_lexer": "ipython3",
   "version": "3.9.12"
  }
 },
 "nbformat": 4,
 "nbformat_minor": 5
}
